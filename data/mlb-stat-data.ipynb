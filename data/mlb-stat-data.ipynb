{
 "cells": [
  {
   "cell_type": "code",
   "execution_count": 2,
   "metadata": {},
   "outputs": [],
   "source": [
    "import statsapi\n",
    "import json\n"
   ]
  },
  {
   "cell_type": "code",
   "execution_count": 5,
   "metadata": {},
   "outputs": [
    {
     "name": "stdout",
     "output_type": "stream",
     "text": [
      "[{'game_id': 530769, 'game_datetime': '2018-07-09T20:10:00Z', 'game_date': '2018-07-09', 'game_type': 'R', 'status': 'Final', 'away_name': 'Philadelphia Phillies', 'home_name': 'New York Mets', 'away_id': 143, 'home_id': 121, 'doubleheader': 'Y', 'game_num': 1, 'home_probable_pitcher': 'Zack Wheeler', 'away_probable_pitcher': 'Zach Eflin', 'home_pitcher_note': 'Another victim of a low-scoring offense, Wheeler is 0-4 over his last 11 starts, despite a 3.76 ERA and 67 strikeouts in those 66 innings. The Mets will push Wheeler back a day in the rotation, hoping he can provide length in a doubleheader.', 'away_pitcher_note': 'Following three consecutive starts of fewer than five innings to finish May, Eflin has been arguably the team’s best pitcher since. He is 6-0 with a 1.91 ERA in his past six starts, striking out 34 and walking six in 37 2/3 innings.', 'away_score': 3, 'home_score': 4, 'current_inning': 10, 'inning_state': 'Bottom', 'venue_id': 3289, 'venue_name': 'Citi Field', 'national_broadcasts': ['MLBN (out-of-market only)'], 'series_status': 'NYM leads 1-0', 'winning_team': 'New York Mets', 'losing_team': 'Philadelphia Phillies', 'winning_pitcher': 'Tim Peterson', 'losing_pitcher': 'Victor Arano', 'save_pitcher': None, 'summary': '2018-07-09 - Philadelphia Phillies (3) @ New York Mets (4) (Final)'}, {'game_id': 529466, 'game_datetime': '2018-07-09T20:15:00Z', 'game_date': '2018-07-09', 'game_type': 'R', 'status': 'Final', 'away_name': 'Philadelphia Phillies', 'home_name': 'New York Mets', 'away_id': 143, 'home_id': 121, 'doubleheader': 'Y', 'game_num': 2, 'home_probable_pitcher': 'Corey Oswalt', 'away_probable_pitcher': 'Aaron Nola', 'home_pitcher_note': 'In his only two starts for the Mets this season, Oswalt has not made it past four innings. He owns a 7.94 ERA overall and is looking to get his first career win on Monday in Game 2 of the Mets’ doubleheader against the Phillies.', 'away_pitcher_note': 'Nola has not only evolved into the Phillies’ ace, but he has developed into one of the best starting pitchers in Major League Baseball. Not bad for a pitcher projected to be a No. 3-type starter in the big leagues.', 'away_score': 3, 'home_score': 1, 'current_inning': 9, 'inning_state': 'Bottom', 'venue_id': 3289, 'venue_name': 'Citi Field', 'national_broadcasts': [], 'series_status': 'Series tied 1-1', 'winning_team': 'Philadelphia Phillies', 'losing_team': 'New York Mets', 'winning_pitcher': 'Aaron Nola', 'losing_pitcher': 'Corey Oswalt', 'save_pitcher': 'Victor Arano', 'summary': '2018-07-09 - Philadelphia Phillies (3) @ New York Mets (1) (Final)'}, {'game_id': 530781, 'game_datetime': '2018-07-10T23:10:00Z', 'game_date': '2018-07-10', 'game_type': 'R', 'status': 'Final', 'away_name': 'Philadelphia Phillies', 'home_name': 'New York Mets', 'away_id': 143, 'home_id': 121, 'doubleheader': 'N', 'game_num': 1, 'home_probable_pitcher': 'Drew Gagnon', 'away_probable_pitcher': 'Enyel De Los Santos', 'home_pitcher_note': 'Gagnon will make his Major League debut on Tuesday against the Phillies. The 28-year-old owns a 2.45 ERA in his last five starts at Triple-A Las Vegas and is looking to continue this success in the Majors.', 'away_pitcher_note': 'De Los Santos will make his Major League debut against the Mets. He is the Phillies’ No. 11 prospect, according to MLB Pipeline. The Phils acquired De Los Santos in December from the Padres in exchange for shortstop Freddy Galvis.', 'away_score': 7, 'home_score': 3, 'current_inning': 9, 'inning_state': 'Bottom', 'venue_id': 3289, 'venue_name': 'Citi Field', 'national_broadcasts': ['MLBN (out-of-market only)'], 'series_status': 'PHI leads 2-1', 'winning_team': 'Philadelphia Phillies', 'losing_team': 'New York Mets', 'winning_pitcher': 'Enyel De Los Santos', 'losing_pitcher': 'Drew Gagnon', 'save_pitcher': None, 'summary': '2018-07-10 - Philadelphia Phillies (7) @ New York Mets (3) (Final)'}, {'game_id': 530796, 'game_datetime': '2018-07-11T23:10:00Z', 'game_date': '2018-07-11', 'game_type': 'R', 'status': 'Final', 'away_name': 'Philadelphia Phillies', 'home_name': 'New York Mets', 'away_id': 143, 'home_id': 121, 'doubleheader': 'N', 'game_num': 1, 'home_probable_pitcher': 'Jacob deGrom', 'away_probable_pitcher': 'Vince Velasquez', 'home_pitcher_note': 'deGrom has allowed three or fewer runs in 15 straight starts and leads the big leagues with an ERA of 1.79. He is also second in the National League in strikeouts with 142. deGrom holds a lifetime record of 6-1 in 12 games started against the Phils.', 'away_pitcher_note': 'Velasquez is expected to rejoin the rotation after landing on the 10-day disabled list July 1. He got hit on the right arm by a line drive June 30. Velasquez memorably picked up the ball and threw left-handed to record the out at first base.', 'away_score': 0, 'home_score': 3, 'current_inning': 10, 'inning_state': 'Bottom', 'venue_id': 3289, 'venue_name': 'Citi Field', 'national_broadcasts': [], 'series_status': 'Series tied 2-2', 'winning_team': 'New York Mets', 'losing_team': 'Philadelphia Phillies', 'winning_pitcher': 'Robert Gsellman', 'losing_pitcher': 'Mark Leiter Jr.', 'save_pitcher': None, 'summary': '2018-07-11 - Philadelphia Phillies (0) @ New York Mets (3) (Final)'}]\n"
     ]
    }
   ],
   "source": [
    "sched = statsapi.schedule(start_date='07/01/2018',end_date='07/31/2018',team=143,opponent=121)\n",
    "print(sched)"
   ]
  },
  {
   "cell_type": "code",
   "execution_count": 18,
   "metadata": {},
   "outputs": [],
   "source": [
    "teams = statsapi.lookup_team(\"\", activeStatus=\"Y\", season=None, sportIds=1)\n",
    "for team in teams:\n",
    "    with open(\"teamLookup.json\", \"a\") as f:\n",
    "        f.write(json.dumps(team)+\"\\n\")\n",
    "\n",
    "    \n",
    "    "
   ]
  },
  {
   "cell_type": "code",
   "execution_count": 43,
   "metadata": {},
   "outputs": [],
   "source": [
    "today = statsapi.datetime.today().date()\n",
    "\n",
    "schedule = statsapi.schedule(\n",
    "    date=today,\n",
    "    sportId=1\n",
    ")\n",
    "for match in schedule:\n",
    "    with open(\"today_schedule.json\", \"a\") as f:\n",
    "        f.write(json.dumps(match)+\"\\n\")"
   ]
  },
  {
   "cell_type": "code",
   "execution_count": null,
   "metadata": {},
   "outputs": [],
   "source": [
    "#getting all matches in 2022\n",
    "\n",
    "from datetime import date\n",
    "\n",
    "start = date(2022,1,1)\n",
    "end = date(2022,12,31)\n",
    "\n",
    "schedule = statsapi.schedule(\n",
    "    start_date=start,\n",
    "    end_date=end,\n",
    ")\n",
    "\n",
    "for match in schedule:\n",
    "    with open(\"matches2022.json\", \"a\") as f:\n",
    "        f.write(json.dumps(match)+\"\\n\")\n",
    "    \n",
    "    game_id = match.get(\"game_id\", None)\n",
    "    game_linescore = statsapi.get(\"game_linescore\",{\"gamePk\":game_id})\n",
    "    with open(\"linescores2022.json\", \"a\") as f2:\n",
    "        f2.write(json.dumps(game_linescore)+\"\\n\")\n"
   ]
  },
  {
   "cell_type": "code",
   "execution_count": 61,
   "metadata": {},
   "outputs": [],
   "source": [
    "year = 2022\n",
    "\n",
    "standings = statsapi.standings_data(\n",
    "    leagueId=\"103,104\",\n",
    "    division=\"all\",\n",
    "    include_wildcard=True,\n",
    "    season=\"2023\"\n",
    ")\n",
    "\n",
    "\n",
    "with open(\"standings2023.json\", \"a\") as f:\n",
    "    f.write(json.dumps(standings)+\"\\n\")"
   ]
  },
  {
   "cell_type": "code",
   "execution_count": 68,
   "metadata": {},
   "outputs": [],
   "source": [
    "stat = statsapi.player_stat_data(660271, group=\"[hitting,pitching,fielding]\", type=\"career\", sportId=1)\n",
    "with open(\"stat.json\", \"w\") as f:\n",
    "    f.write(json.dumps(stat)+\"\\n\")"
   ]
  },
  {
   "cell_type": "code",
   "execution_count": 72,
   "metadata": {},
   "outputs": [],
   "source": [
    "team_stat = (statsapi.get('team_stats', {'teamId':119,'season':2021,'group':'hitting,pitching','stats':'season'}))\n",
    "\n",
    "with open(\"team_stat.json\", \"w\") as f:\n",
    "    f.write(json.dumps(team_stat)+\"\\n\")"
   ]
  },
  {
   "cell_type": "markdown",
   "metadata": {},
   "source": [
    "# 본격적인 데이터 추출"
   ]
  },
  {
   "cell_type": "code",
   "execution_count": null,
   "metadata": {},
   "outputs": [],
   "source": [
    "# 연도별 팀 id 저장\n",
    "for year in range(1876, 2024):\n",
    "    team_ids = []\n",
    "    teams = statsapi.get(\"teams\", {\"season\": year, \"sportId\":1}).get(\"teams\")\n",
    "    for team in teams:\n",
    "        team_id = team[\"id\"]\n",
    "        team_name = team[\"name\"]\n",
    "        team_ids.append({\"id\": team_id, \"name\": team_name})\n",
    "    with open(f\"team_ids/team_ids{year}.json\", \"w\") as f:        \n",
    "        f.write(json.dumps(team_ids))"
   ]
  },
  {
   "cell_type": "code",
   "execution_count": 113,
   "metadata": {},
   "outputs": [],
   "source": [
    "# season 기반 team_standing 추출\n",
    "\n",
    "# 1969년 이전은 division이 나눠져 있지 않아서 데이터를 따로 처리해야함.\n",
    "for year in range(1969,2024):\n",
    "    standings = statsapi.standings_data(\n",
    "        leagueId=\"103,104\",\n",
    "        division=\"all\",\n",
    "        include_wildcard=True,\n",
    "        season = year\n",
    "    )\n",
    "    filename = f\"standing{year}.json\"\n",
    "    with open(\"teamstandings/\"+filename, \"a\") as f:\n",
    "        f.write(json.dumps(standings)+\"\\n\")\n",
    "    "
   ]
  },
  {
   "cell_type": "code",
   "execution_count": 19,
   "metadata": {},
   "outputs": [],
   "source": [
    "# season별 teamId 기반 team_stat 추출\n",
    "\n",
    "for year in range(2023, 2024):\n",
    "    with open(f\"team_ids/team_ids{year}.json\", \"r\") as f:\n",
    "        teams = json.load(f)\n",
    "        teams_stat = []\n",
    "        for team in teams:\n",
    "            team_id = team[\"id\"]\n",
    "            teams_stat.append(statsapi.get('team_stats', {'teamId':team_id,'season':year,'group':'hitting,pitching,fielding','stats':'season'}))\n",
    "            with open(f\"teamstats/team_stat{year}.json\", \"w\") as f:\n",
    "                f.write(json.dumps(teams_stat))\n",
    "# for year in range(1999, 2024):\n",
    "#     for team in team_ids:\n",
    "#         team_id = team.get(\"id\")\n",
    "#         team_stat = (statsapi.get('team_stats', {'teamId':team_id,'season':year,'group':'hitting,pitching,fielding','stats':'season'}))\n",
    "\n",
    "#         with open(f\"teamstats/team_stat{year}.json\", \"a\") as f:\n",
    "#             f.write(json.dumps(team_stat)+\"\\n\")\n"
   ]
  },
  {
   "cell_type": "code",
   "execution_count": 28,
   "metadata": {},
   "outputs": [],
   "source": [
    "# playerId 수집\n",
    "players = statsapi.get(\"sports_players\",{\"sportId\":1,\"season\":2023})\n",
    "with open(f\"test.json\", \"w\") as f:\n",
    "        f.write(json.dumps(players))"
   ]
  },
  {
   "cell_type": "code",
   "execution_count": null,
   "metadata": {},
   "outputs": [],
   "source": [
    "# playerId 기반 "
   ]
  },
  {
   "cell_type": "code",
   "execution_count": 41,
   "metadata": {},
   "outputs": [
    {
     "name": "stderr",
     "output_type": "stream",
     "text": [
      "Excluding seriesStatus hydration because the MLB API throws an error for 2014-03-11 which is included in the requested date range.\n"
     ]
    }
   ],
   "source": [
    "# matchId 수집\n",
    "\n",
    "from datetime import date\n",
    "\n",
    "start = date(1920,1,1)\n",
    "end = date(2022,12,31)\n",
    "\n",
    "schedule = statsapi.schedule(\n",
    "    start_date=start,\n",
    "    end_date=end,\n",
    "    sportId=1\n",
    ")\n",
    "\n",
    "match_ids = []\n",
    "\n",
    "for match in schedule:\n",
    "    game_id = match[\"game_id\"]\n",
    "    summary = match[\"summary\"]\n",
    "    match_ids.append({\"game_id\":game_id,\"summary\":summary})\n",
    "\n",
    "with open(\"match_ids.json\",\"w\") as f:\n",
    "    f.write(json.dumps(match_ids))"
   ]
  }
 ],
 "metadata": {
  "kernelspec": {
   "display_name": "Python 3",
   "language": "python",
   "name": "python3"
  },
  "language_info": {
   "codemirror_mode": {
    "name": "ipython",
    "version": 3
   },
   "file_extension": ".py",
   "mimetype": "text/x-python",
   "name": "python",
   "nbconvert_exporter": "python",
   "pygments_lexer": "ipython3",
   "version": "3.11.5"
  },
  "orig_nbformat": 4
 },
 "nbformat": 4,
 "nbformat_minor": 2
}
